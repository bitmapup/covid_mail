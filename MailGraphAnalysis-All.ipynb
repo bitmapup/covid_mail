{
 "cells": [
  {
   "cell_type": "code",
   "execution_count": 3,
   "metadata": {},
   "outputs": [],
   "source": [
    "# -*- coding: utf-8 -*-\n",
    "import numpy as np\n",
    "import pandas as pd\n",
    "import networkx as nx\n",
    "import igraph as ig\n",
    "import matplotlib.pyplot as plt\n",
    "import itertools\n",
    "import powerlaw\n",
    "import math\n",
    "import warnings\n",
    "warnings.filterwarnings('ignore')"
   ]
  },
  {
   "cell_type": "code",
   "execution_count": 10,
   "metadata": {},
   "outputs": [],
   "source": [
    "cType =  'all'"
   ]
  },
  {
   "cell_type": "markdown",
   "metadata": {},
   "source": [
    "## Read graph dataset (from Dataverse)"
   ]
  },
  {
   "cell_type": "code",
   "execution_count": 56,
   "metadata": {},
   "outputs": [],
   "source": [
    "all_data = pd.read_csv('edges.csv')"
   ]
  },
  {
   "cell_type": "code",
   "execution_count": 57,
   "metadata": {},
   "outputs": [
    {
     "data": {
      "text/html": [
       "<div>\n",
       "<style scoped>\n",
       "    .dataframe tbody tr th:only-of-type {\n",
       "        vertical-align: middle;\n",
       "    }\n",
       "\n",
       "    .dataframe tbody tr th {\n",
       "        vertical-align: top;\n",
       "    }\n",
       "\n",
       "    .dataframe thead th {\n",
       "        text-align: right;\n",
       "    }\n",
       "</style>\n",
       "<table border=\"1\" class=\"dataframe\">\n",
       "  <thead>\n",
       "    <tr style=\"text-align: right;\">\n",
       "      <th></th>\n",
       "      <th>Date</th>\n",
       "      <th>Sender</th>\n",
       "      <th>Receiver</th>\n",
       "    </tr>\n",
       "  </thead>\n",
       "  <tbody>\n",
       "    <tr>\n",
       "      <th>0</th>\n",
       "      <td>2019-12-31 15:30:28</td>\n",
       "      <td>466424</td>\n",
       "      <td>461836</td>\n",
       "    </tr>\n",
       "    <tr>\n",
       "      <th>1</th>\n",
       "      <td>2019-12-31 15:30:28</td>\n",
       "      <td>466424</td>\n",
       "      <td>20923</td>\n",
       "    </tr>\n",
       "    <tr>\n",
       "      <th>2</th>\n",
       "      <td>2019-12-31 15:30:44</td>\n",
       "      <td>39527</td>\n",
       "      <td>30652</td>\n",
       "    </tr>\n",
       "    <tr>\n",
       "      <th>3</th>\n",
       "      <td>2019-12-31 15:30:59</td>\n",
       "      <td>466424</td>\n",
       "      <td>461836</td>\n",
       "    </tr>\n",
       "    <tr>\n",
       "      <th>4</th>\n",
       "      <td>2019-12-31 15:30:59</td>\n",
       "      <td>466424</td>\n",
       "      <td>20923</td>\n",
       "    </tr>\n",
       "  </tbody>\n",
       "</table>\n",
       "</div>"
      ],
      "text/plain": [
       "                  Date  Sender  Receiver\n",
       "0  2019-12-31 15:30:28  466424    461836\n",
       "1  2019-12-31 15:30:28  466424     20923\n",
       "2  2019-12-31 15:30:44   39527     30652\n",
       "3  2019-12-31 15:30:59  466424    461836\n",
       "4  2019-12-31 15:30:59  466424     20923"
      ]
     },
     "execution_count": 57,
     "metadata": {},
     "output_type": "execute_result"
    }
   ],
   "source": [
    "all_data.head()"
   ]
  },
  {
   "cell_type": "code",
   "execution_count": 58,
   "metadata": {},
   "outputs": [],
   "source": [
    "count_groupby = all_data.groupby(['Sender', 'Receiver']).agg([ 'count'])"
   ]
  },
  {
   "cell_type": "code",
   "execution_count": 59,
   "metadata": {},
   "outputs": [
    {
     "data": {
      "text/plain": [
       "pandas.core.frame.DataFrame"
      ]
     },
     "execution_count": 59,
     "metadata": {},
     "output_type": "execute_result"
    }
   ],
   "source": [
    "type(count_groupby)"
   ]
  },
  {
   "cell_type": "code",
   "execution_count": 60,
   "metadata": {},
   "outputs": [],
   "source": [
    "count_groupby.to_csv('count_groupby_edges.csv',header=False)"
   ]
  },
  {
   "cell_type": "code",
   "execution_count": 4,
   "metadata": {},
   "outputs": [
    {
     "data": {
      "text/html": [
       "<div>\n",
       "<style scoped>\n",
       "    .dataframe tbody tr th:only-of-type {\n",
       "        vertical-align: middle;\n",
       "    }\n",
       "\n",
       "    .dataframe tbody tr th {\n",
       "        vertical-align: top;\n",
       "    }\n",
       "\n",
       "    .dataframe thead th {\n",
       "        text-align: right;\n",
       "    }\n",
       "</style>\n",
       "<table border=\"1\" class=\"dataframe\">\n",
       "  <thead>\n",
       "    <tr style=\"text-align: right;\">\n",
       "      <th></th>\n",
       "      <th>Sender</th>\n",
       "      <th>Receiver</th>\n",
       "      <th>Num_Mails</th>\n",
       "    </tr>\n",
       "  </thead>\n",
       "  <tbody>\n",
       "    <tr>\n",
       "      <th>0</th>\n",
       "      <td>0</td>\n",
       "      <td>0</td>\n",
       "      <td>4</td>\n",
       "    </tr>\n",
       "    <tr>\n",
       "      <th>1</th>\n",
       "      <td>0</td>\n",
       "      <td>9</td>\n",
       "      <td>1</td>\n",
       "    </tr>\n",
       "    <tr>\n",
       "      <th>2</th>\n",
       "      <td>0</td>\n",
       "      <td>43</td>\n",
       "      <td>17</td>\n",
       "    </tr>\n",
       "    <tr>\n",
       "      <th>3</th>\n",
       "      <td>0</td>\n",
       "      <td>339</td>\n",
       "      <td>1</td>\n",
       "    </tr>\n",
       "    <tr>\n",
       "      <th>4</th>\n",
       "      <td>0</td>\n",
       "      <td>526</td>\n",
       "      <td>3</td>\n",
       "    </tr>\n",
       "  </tbody>\n",
       "</table>\n",
       "</div>"
      ],
      "text/plain": [
       "   Sender  Receiver  Num_Mails\n",
       "0       0         0          4\n",
       "1       0         9          1\n",
       "2       0        43         17\n",
       "3       0       339          1\n",
       "4       0       526          3"
      ]
     },
     "execution_count": 4,
     "metadata": {},
     "output_type": "execute_result"
    }
   ],
   "source": [
    "df_g = pd.read_csv('count_groupby_edges.csv',names=['Sender','Receiver','Num_Mails'])\n",
    "df_g.head()"
   ]
  },
  {
   "cell_type": "code",
   "execution_count": 5,
   "metadata": {},
   "outputs": [],
   "source": [
    "#df_g.sort_values(by=['Num_Mails'],  ascending=False)"
   ]
  },
  {
   "cell_type": "code",
   "execution_count": 6,
   "metadata": {},
   "outputs": [
    {
     "data": {
      "text/plain": [
       "count    2.213916e+06\n",
       "mean     1.130519e+01\n",
       "std      3.673704e+02\n",
       "min      1.000000e+00\n",
       "25%      1.000000e+00\n",
       "50%      2.000000e+00\n",
       "75%      4.000000e+00\n",
       "max      2.351510e+05\n",
       "Name: Num_Mails, dtype: float64"
      ]
     },
     "execution_count": 6,
     "metadata": {},
     "output_type": "execute_result"
    }
   ],
   "source": [
    "df_g['Num_Mails'].describe()"
   ]
  },
  {
   "cell_type": "code",
   "execution_count": 7,
   "metadata": {},
   "outputs": [],
   "source": [
    "tuples = [tuple(x) for x in df_g.values]\n",
    "Gm = ig.Graph.TupleList(tuples, directed = True, edge_attrs = ['Num_Mails'])"
   ]
  },
  {
   "cell_type": "markdown",
   "metadata": {},
   "source": [
    "## Describing the directed graph"
   ]
  },
  {
   "cell_type": "code",
   "execution_count": null,
   "metadata": {},
   "outputs": [],
   "source": [
    "#### Density"
   ]
  },
  {
   "cell_type": "code",
   "execution_count": null,
   "metadata": {},
   "outputs": [],
   "source": [
    "Gm_density = Gm.density(loops=False)\n",
    "print (\"Density : \", Gm_density)"
   ]
  },
  {
   "cell_type": "markdown",
   "metadata": {},
   "source": [
    "#### Diameter"
   ]
  },
  {
   "cell_type": "code",
   "execution_count": null,
   "metadata": {},
   "outputs": [],
   "source": [
    "Gm_diameter = Gm.diameter()\n",
    "print (\"Diameter : \",Gm_diameter)"
   ]
  },
  {
   "cell_type": "markdown",
   "metadata": {},
   "source": [
    "#### Diameter Giant Component"
   ]
  },
  {
   "cell_type": "code",
   "execution_count": null,
   "metadata": {},
   "outputs": [],
   "source": [
    "def giant_component(graph):\n",
    "    \"\"\"Compute giant component.\n",
    "\n",
    "    Returns:\n",
    "        The giant component of `graph` as an `igraph.Graph`.\n",
    "\n",
    "    \"\"\"\n",
    "    vc = graph.components()\n",
    "    vc_sizes = vc.sizes()\n",
    "    return vc.subgraph(vc_sizes.index(max(vc_sizes)))\n",
    "Gm_diameter_gc =  giant_component(Gm).diameter()\n",
    "print (\"Diameter giant component : \",Gm_diameter_gc)"
   ]
  },
  {
   "cell_type": "markdown",
   "metadata": {},
   "source": [
    "#### Avg. path length"
   ]
  },
  {
   "cell_type": "code",
   "execution_count": null,
   "metadata": {},
   "outputs": [],
   "source": [
    "Gm_avg_shortest_path = Gm.average_path_length()\n",
    "print (\"Avg. path length : \",Gm_avg_shortest_path)"
   ]
  },
  {
   "cell_type": "markdown",
   "metadata": {},
   "source": [
    "#### Sending nodes"
   ]
  },
  {
   "cell_type": "code",
   "execution_count": null,
   "metadata": {},
   "outputs": [],
   "source": [
    "Sending_nodes=df_g['Sender'].nunique()\n",
    "print(\"Sending nodes\",Sending_nodes)"
   ]
  },
  {
   "cell_type": "markdown",
   "metadata": {},
   "source": [
    "#### Receiving nodes"
   ]
  },
  {
   "cell_type": "code",
   "execution_count": null,
   "metadata": {},
   "outputs": [],
   "source": [
    "Receiving_nodes = df_g['Receiver'].nunique()\n",
    "print (\"Receiving nodes\", Receiving_nodes)"
   ]
  },
  {
   "cell_type": "markdown",
   "metadata": {},
   "source": [
    "#### Total nodes"
   ]
  },
  {
   "cell_type": "code",
   "execution_count": null,
   "metadata": {},
   "outputs": [],
   "source": [
    "Gm_total_nodes = Gm.vcount()\n",
    "print (\"Total nodes\", Gm_total_nodes)"
   ]
  },
  {
   "cell_type": "markdown",
   "metadata": {},
   "source": [
    "#### Total Edges"
   ]
  },
  {
   "cell_type": "code",
   "execution_count": null,
   "metadata": {},
   "outputs": [],
   "source": [
    "Gm_total_edges = Gm.ecount()\n",
    "print (\"Total edges\", Gm_total_edges)"
   ]
  },
  {
   "cell_type": "markdown",
   "metadata": {},
   "source": [
    "#### Global clustering coefficient"
   ]
  },
  {
   "cell_type": "code",
   "execution_count": null,
   "metadata": {},
   "outputs": [],
   "source": [
    "Gm_gcc = Gm.transitivity_undirected()\n",
    "print('Global clustering coefficient: {}'.format(Gm_gcc))"
   ]
  },
  {
   "cell_type": "markdown",
   "metadata": {},
   "source": [
    "#### Local average clustering coefficient"
   ]
  },
  {
   "cell_type": "code",
   "execution_count": null,
   "metadata": {},
   "outputs": [],
   "source": [
    "Gm_lacc = Gm.transitivity_avglocal_undirected()\n",
    "print('Local average clustering coefficient: {}'.format( Gm_lacc ) )"
   ]
  },
  {
   "cell_type": "markdown",
   "metadata": {},
   "source": [
    "#### Number of 3-cliques(triangles)"
   ]
  },
  {
   "cell_type": "code",
   "execution_count": null,
   "metadata": {},
   "outputs": [],
   "source": [
    "tc= Gm.cliques(min=3,max=3)\n",
    "print('Number of 3-cliques(triangles): {}'.format(len(tc)))"
   ]
  },
  {
   "cell_type": "markdown",
   "metadata": {},
   "source": [
    "#### Average triangles formed by an edge"
   ]
  },
  {
   "cell_type": "code",
   "execution_count": null,
   "metadata": {},
   "outputs": [],
   "source": [
    "tf=[]\n",
    "for i in range(len(Gm.vs)):\n",
    "    n=0\n",
    "    for t in tc:\n",
    "        if i in t:\n",
    "            n+=1\n",
    "    tf.append(n)\n",
    "at = np.mean(tf)\n",
    "print('Average triangles formed by an edge: {}'.format(at))"
   ]
  },
  {
   "cell_type": "markdown",
   "metadata": {},
   "source": [
    "## Summary of properties"
   ]
  },
  {
   "cell_type": "code",
   "execution_count": null,
   "metadata": {},
   "outputs": [],
   "source": [
    "G_properties = pd.DataFrame(\n",
    "    {'Variable': [\"Density\", \n",
    "                  \"Diameter\", \n",
    "                  \"Diameter giant component\",\n",
    "                  \"Avg. path length\",\n",
    "                  \"Sending nodes\",\n",
    "                  \"Receiving nodes\",\n",
    "                  \"Total nodes\", \n",
    "                  \"Total edges\", \n",
    "                  'Global clustering coefficient',\n",
    "                  'Local average clustering coefficient',\n",
    "                  'Number of 3-cliques(triangles)',\n",
    "                  'Average triangles formed by an edge'\n",
    "                 ],\n",
    "     'Value': [Gm_density,\n",
    "               Gm_diameter,\n",
    "               Gm_diameter_gc,\n",
    "               Gm_avg_shortest_path,\n",
    "               Sending_nodes, \n",
    "               Receiving_nodes,\n",
    "               Gm_total_nodes,\n",
    "               Gm_total_edges,\n",
    "               Gm_gcc,\n",
    "               Gm_lacc,\n",
    "               len(tc),\n",
    "               at\n",
    "              ],\n",
    "    })\n",
    "\n",
    "G_properties.to_csv('output/G_properties_{}.csv'.format(cType),header=False)"
   ]
  },
  {
   "cell_type": "markdown",
   "metadata": {},
   "source": [
    "## Visualization of degrees"
   ]
  },
  {
   "cell_type": "code",
   "execution_count": null,
   "metadata": {},
   "outputs": [],
   "source": [
    "degree = powerlaw.Fit(Gm.degree(), discrete = True)\n",
    "print(\"Alpha degree:\", -degree.power_law.alpha)\n",
    "print(\"Sigma degree:\", degree.power_law.sigma)\n",
    "print(\"Xmin degree:\",degree.power_law.xmin)\n",
    "print(\"Xmin degree:\",degree.power_law.xmax)"
   ]
  },
  {
   "cell_type": "markdown",
   "metadata": {},
   "source": [
    "## Power law"
   ]
  },
  {
   "cell_type": "code",
   "execution_count": null,
   "metadata": {},
   "outputs": [],
   "source": [
    "def Fig_Degree(G,xmax):\n",
    "    degree = powerlaw.Fit(G.degree(), discrete = True)\n",
    "\n",
    "    Fig_Degree = degree.plot_ccdf(color='b', label=r\"Empirical, no $x_{max}$\")\n",
    "    degree.power_law.plot_ccdf(color='b', linestyle='--', ax=Fig_Degree, label=r\"Fit, no $x_{max}$\")\n",
    "    degree_max = powerlaw.Fit(G.degree(), discrete=True, xmax=xmax)\n",
    "    degree_max.plot_ccdf(color='r', label=r\"Empirical, $x_{max} = $\" + str(xmax))\n",
    "    degree_max.power_law.plot_ccdf(color='r', linestyle='--', ax=Fig_Degree, label=r\"Fit, $x_{max} = $\" + str(xmax))\n",
    "\n",
    "    Fig_Degree.set_ylabel(u\"CCDF\")\n",
    "    Fig_Degree.set_xlabel(r\"Node Degree\")\n",
    "    handles, labels = Fig_Degree.get_legend_handles_labels()\n",
    "    leg = Fig_Degree.legend(handles, labels, loc=3)\n",
    "    leg.draw_frame(False)\n",
    "    \n",
    "    Fig_Degree.figure.savefig('Figures/Fig_Degree_{}_{}.png'.format(xmax, cType), dpi=300)\n",
    "    \n",
    "    return Fig_Degree\n"
   ]
  },
  {
   "cell_type": "code",
   "execution_count": null,
   "metadata": {},
   "outputs": [],
   "source": [
    "def Fig_In_Degree(G, xmax):\n",
    "    in_degree = powerlaw.Fit(G.indegree(), discrete = True)\n",
    "\n",
    "    Fig_In_Degree = in_degree.plot_ccdf(color='b', label=r\"Empirical, no $x_{max}$\")\n",
    "    in_degree.power_law.plot_ccdf(color='b', linestyle='--', ax=Fig_In_Degree, label=r\"Fit, no $x_{max}$\")\n",
    "    in_degree_max = powerlaw.Fit(G.indegree(), discrete=True, xmax = xmax)\n",
    "    in_degree_max.plot_ccdf(color='r', label=r\"Empirical, $x_{max} = $\" + str(xmax))\n",
    "    in_degree_max.power_law.plot_ccdf(color='r', linestyle='--', ax=Fig_In_Degree, label=r\"Fit, $x_{max} = $\" + str(xmax))\n",
    "    \n",
    "    Fig_In_Degree.set_ylabel(u\"CCDF\")\n",
    "    Fig_In_Degree.set_xlabel(r\"Node In-Degree\")\n",
    "    handles, labels = Fig_In_Degree.get_legend_handles_labels()\n",
    "    leg = Fig_In_Degree.legend(handles, labels, loc=3)\n",
    "    leg.draw_frame(False)\n",
    "    \n",
    "    Fig_In_Degree.figure.savefig('Figures/Fig_In_Degree_{}_{}.png'.format(xmax,cType), dpi=300)\n",
    "\n",
    "    \n",
    "    return Fig_In_Degree"
   ]
  },
  {
   "cell_type": "code",
   "execution_count": 8,
   "metadata": {},
   "outputs": [],
   "source": [
    "def Fig_Out_Degree(G,xmax):\n",
    "    out_degree = powerlaw.Fit(G.outdegree(), discrete = True)\n",
    "\n",
    "    Fig_Out_Degree = out_degree.plot_ccdf(color='b', label=r\"Empirical, no $x_{max}$\")\n",
    "    out_degree.power_law.plot_ccdf(color='b', linestyle='--', ax=Fig_Out_Degree, label=r\"Fit, no $x_{max}$\")\n",
    "    out_degree_max = powerlaw.Fit(G.outdegree(), discrete=True, xmax = xmax)\n",
    "    out_degree_max.plot_ccdf(color='r', label=r\"Empirical, $x_{max} = $\" + str(xmax))\n",
    "    out_degree_max.power_law.plot_ccdf(color='r', linestyle='--', ax=Fig_Out_Degree, label=r\"Fit, $x_{max} = $\" + str(xmax))\n",
    "\n",
    "    Fig_Out_Degree.set_ylabel(u\"CCDF\")\n",
    "    Fig_Out_Degree.set_xlabel(r\"Node Out-Degree\")\n",
    "    #Fig_Out_Degree.set_title(\" Out-Degree\")\n",
    "    handles, labels = Fig_Out_Degree.get_legend_handles_labels()\n",
    "    leg = Fig_Out_Degree.legend(handles, labels, loc=3)\n",
    "    leg.draw_frame(False)\n",
    "    \n",
    "    Fig_Out_Degree.figure.savefig('Figures/Fig_Out_Degree{}_{}.png'.format(xmax,cType), dpi=300)\n",
    "\n",
    "    \n",
    "    return Fig_Out_Degree"
   ]
  },
  {
   "cell_type": "markdown",
   "metadata": {},
   "source": [
    "figura = Fig_Degree(Gm, 2000)"
   ]
  },
  {
   "cell_type": "markdown",
   "metadata": {},
   "source": [
    "type(figura)"
   ]
  },
  {
   "cell_type": "markdown",
   "metadata": {},
   "source": [
    "Fig_In_Degree(Gm, 900)"
   ]
  },
  {
   "cell_type": "code",
   "execution_count": 11,
   "metadata": {},
   "outputs": [
    {
     "name": "stderr",
     "output_type": "stream",
     "text": [
      "Values less than or equal to 0 in data. Throwing out 0 or negative values\n",
      "Calculating best minimal value for power law fit\n",
      "Values less than or equal to 0 in data. Throwing out 0 or negative values\n",
      "Calculating best minimal value for power law fit\n"
     ]
    },
    {
     "data": {
      "text/plain": [
       "<matplotlib.axes._subplots.AxesSubplot at 0x7f292ea86a20>"
      ]
     },
     "execution_count": 11,
     "metadata": {},
     "output_type": "execute_result"
    },
    {
     "data": {
      "image/png": "[encoded data removed]",
      "text/plain": [
       "<Figure size 432x288 with 1 Axes>"
      ]
     },
     "metadata": {
      "needs_background": "light"
     },
     "output_type": "display_data"
    }
   ],
   "source": [
    "Fig_Out_Degree(Gm, 1200)"
   ]
  },
  {
   "cell_type": "markdown",
   "metadata": {},
   "source": [
    "## Strength"
   ]
  },
  {
   "cell_type": "code",
   "execution_count": 12,
   "metadata": {},
   "outputs": [],
   "source": [
    "def Fig_Strength(G,xmax):\n",
    "    strength = powerlaw.Fit(G.strength(mode=\"ALL\", weights='Num_Mails'), discrete = True)\n",
    "\n",
    "    Fig_Strength = strength.plot_ccdf(color='b', label=r\"Empirical, no $x_{max}$\")\n",
    "    strength.power_law.plot_ccdf(color='b', linestyle='--', ax=Fig_Strength, label=r\"Fit, no $x_{max}$\")\n",
    "    strength_max = powerlaw.Fit(G.strength(mode=\"ALL\", weights='Num_Mails'), discrete=True, xmax = xmax)\n",
    "    strength_max.plot_ccdf(color='r', label=r\"Empirical, $x_{max} = $\" + str(xmax))\n",
    "    strength_max.power_law.plot_ccdf(color='r', linestyle='--', ax=Fig_Strength, label=r\"Fit, $x_{max} = $\" + str(xmax))\n",
    "\n",
    "    Fig_Strength.set_ylabel(u\"CCDF\")\n",
    "    Fig_Strength.set_xlabel(r\"Node Strength\")\n",
    "    #Fig_Strength.set_title(\" Strength\")\n",
    "    handles, labels = Fig_Strength.get_legend_handles_labels()\n",
    "    leg = Fig_Strength.legend(handles, labels, loc=3)\n",
    "    leg.draw_frame(False)\n",
    "    \n",
    "    Fig_Strength.figure.savefig('Figures/Fig_Strength_{}_{}.png'.format(xmax,cType), dpi=300)\n",
    "    \n",
    "    return Fig_Strength"
   ]
  },
  {
   "cell_type": "code",
   "execution_count": 13,
   "metadata": {},
   "outputs": [],
   "source": [
    "def Fig_In_Strength(G,xmax):\n",
    "    in_strength = powerlaw.Fit(G.strength(mode=\"IN\", weights='Num_Mails'), discrete = True)\n",
    "\n",
    "    Fig_In_Strength = in_strength.plot_ccdf(color='b', label=r\"Empirical, no $x_{max}$\")\n",
    "    in_strength.power_law.plot_ccdf(color='b', linestyle='--', ax=Fig_In_Strength, label=r\"Fit, no $x_{max}$\")\n",
    "    in_strength_max = powerlaw.Fit(G.strength(mode=\"IN\", weights='Num_Mails'), discrete=True, xmax = xmax)\n",
    "    in_strength_max.plot_ccdf(color='r', label=r\"Empirical, $x_{max} = $\" + str(xmax))\n",
    "    in_strength_max.power_law.plot_ccdf(color='r', linestyle='--', ax=Fig_In_Strength, label=r\"Fit, $x_{max} = $\" + str(xmax))\n",
    "\n",
    "    Fig_In_Strength.set_ylabel(u\"CCDF\")\n",
    "    Fig_In_Strength.set_xlabel(r\"Node In-Degree\")\n",
    "    #Fig_In_Strength.set_title(\" In-Strength\")\n",
    "    handles, labels = Fig_In_Strength.get_legend_handles_labels()\n",
    "    leg = Fig_In_Strength.legend(handles, labels, loc=3)\n",
    "    leg.draw_frame(False)\n",
    "    \n",
    "    Fig_In_Strength.figure.savefig('Figures/Fig_In_Strength_{}_{}.png'.format(xmax,cType), dpi=300)\n",
    "    \n",
    "    return Fig_In_Strength"
   ]
  },
  {
   "cell_type": "code",
   "execution_count": 14,
   "metadata": {},
   "outputs": [],
   "source": [
    "def Fig_Out_Strength(G,xmax):\n",
    "    out_strength = powerlaw.Fit(G.strength(mode=\"OUT\", weights='Num_Mails'), discrete = True)\n",
    "\n",
    "    Fig_Out_Strength = out_strength.plot_ccdf(color='b', label=r\"Empirical, no $x_{max}$\")\n",
    "    out_strength.power_law.plot_ccdf(color='b', linestyle='--', ax=Fig_Out_Strength, label=r\"Fit, no $x_{max}$\")\n",
    "    out_strength_max = powerlaw.Fit(G.strength(mode=\"OUT\", weights='Num_Mails'), discrete=True, xmax = xmax)\n",
    "    out_strength_max.plot_ccdf(color='r', label=r\"Empirical, $x_{max} = $\" + str(xmax))\n",
    "    out_strength_max.power_law.plot_ccdf(color='r', linestyle='--', ax=Fig_Out_Strength, label=r\"Fit, $x_{max} = $\" + str(xmax))\n",
    "\n",
    "    Fig_Out_Strength.set_ylabel(u\"CCDF\")\n",
    "    Fig_Out_Strength.set_xlabel(r\"Node In-Degree\")\n",
    "    #Fig_Out_Strength.set_title(\" Out-Strength\")\n",
    "    handles, labels = Fig_Out_Strength.get_legend_handles_labels()\n",
    "    leg = Fig_Out_Strength.legend(handles, labels, loc=3)\n",
    "    leg.draw_frame(False)\n",
    "    \n",
    "    Fig_Out_Strength.figure.savefig('Figures/Fig_Out_Strength_{}_{}.png'.format(xmax,cType), dpi=300)\n",
    "    \n",
    "    return Fig_Out_Strength"
   ]
  },
  {
   "cell_type": "code",
   "execution_count": 15,
   "metadata": {},
   "outputs": [
    {
     "name": "stderr",
     "output_type": "stream",
     "text": [
      "Calculating best minimal value for power law fit\n",
      "Calculating best minimal value for power law fit\n"
     ]
    },
    {
     "data": {
      "text/plain": [
       "<matplotlib.axes._subplots.AxesSubplot at 0x7f292e922c88>"
      ]
     },
     "execution_count": 15,
     "metadata": {},
     "output_type": "execute_result"
    },
    {
     "data": {
      "image/png": "[encoded data removed]",
      "text/plain": [
       "<Figure size 432x288 with 1 Axes>"
      ]
     },
     "metadata": {
      "needs_background": "light"
     },
     "output_type": "display_data"
    }
   ],
   "source": [
    "Fig_Strength(Gm, 2000000)"
   ]
  },
  {
   "cell_type": "code",
   "execution_count": 16,
   "metadata": {},
   "outputs": [
    {
     "name": "stderr",
     "output_type": "stream",
     "text": [
      "Values less than or equal to 0 in data. Throwing out 0 or negative values\n",
      "Calculating best minimal value for power law fit\n",
      "Values less than or equal to 0 in data. Throwing out 0 or negative values\n",
      "Calculating best minimal value for power law fit\n"
     ]
    },
    {
     "data": {
      "text/plain": [
       "<matplotlib.axes._subplots.AxesSubplot at 0x7f292d034eb8>"
      ]
     },
     "execution_count": 16,
     "metadata": {},
     "output_type": "execute_result"
    },
    {
     "data": {
      "image/png": "[encoded data removed]",
      "text/plain": [
       "<Figure size 432x288 with 1 Axes>"
      ]
     },
     "metadata": {
      "needs_background": "light"
     },
     "output_type": "display_data"
    }
   ],
   "source": [
    "Fig_In_Strength(Gm, 700000)"
   ]
  },
  {
   "cell_type": "code",
   "execution_count": 17,
   "metadata": {},
   "outputs": [
    {
     "name": "stderr",
     "output_type": "stream",
     "text": [
      "Values less than or equal to 0 in data. Throwing out 0 or negative values\n",
      "Calculating best minimal value for power law fit\n",
      "Values less than or equal to 0 in data. Throwing out 0 or negative values\n",
      "Calculating best minimal value for power law fit\n"
     ]
    },
    {
     "data": {
      "text/plain": [
       "<matplotlib.axes._subplots.AxesSubplot at 0x7f292d055e10>"
      ]
     },
     "execution_count": 17,
     "metadata": {},
     "output_type": "execute_result"
    },
    {
     "data": {
      "image/png": "[encoded data removed]",
      "text/plain": [
       "<Figure size 432x288 with 1 Axes>"
      ]
     },
     "metadata": {
      "needs_background": "light"
     },
     "output_type": "display_data"
    }
   ],
   "source": [
    "Fig_Out_Strength(Gm, 2000000)"
   ]
  },
  {
   "cell_type": "markdown",
   "metadata": {},
   "source": [
    "## Betweeness"
   ]
  },
  {
   "cell_type": "code",
   "execution_count": null,
   "metadata": {},
   "outputs": [],
   "source": [
    "btw = sorted(Gm.betweenness(), reverse=True)\n",
    "x=list(range(len(btw)))\n",
    "\n",
    "plt.plot(x,btw)\n",
    "plt.xlim([-10,1200])\n",
    "plt.yscale('log')\n",
    "plt.ylabel('Pre-lockdown - betweenness(log)')\n",
    "plt.savefig('Figures/betweenness_{}.png'.format(cType), dpi=100)\n",
    "plt.show()\n"
   ]
  },
  {
   "cell_type": "code",
   "execution_count": null,
   "metadata": {},
   "outputs": [],
   "source": [
    "import pickle\n",
    "with open('output/betweenness_{}.pkl'.format(cType), 'wb') as f:\n",
    "    pickle.dump(btw, f)\n",
    "#with open('output/betweenness_{}.pkl'.format(cType), 'rb') as f:\n",
    "#    btw = pickle.load(f)"
   ]
  },
  {
   "cell_type": "markdown",
   "metadata": {},
   "source": [
    "## Graph viz"
   ]
  },
  {
   "cell_type": "code",
   "execution_count": null,
   "metadata": {},
   "outputs": [],
   "source": [
    "out_fig_name = \"Figures/graph_{}.eps\".format(cType)\n",
    "\n",
    "visual_style = {}\n",
    "\n",
    "# Define colors used for outdegree visualization\n",
    "colours = ['#fecc5c', '#a31a1c']\n",
    "\n",
    "# Set bbox and margin\n",
    "visual_style[\"bbox\"] = (3000,3000)\n",
    "visual_style[\"margin\"] = 17\n",
    "\n",
    "# Set vertex colours\n",
    "visual_style[\"vertex_color\"] = 'grey'\n",
    "\n",
    "# Set vertex size\n",
    "visual_style[\"vertex_size\"] = 20\n",
    "\n",
    "# Set vertex lable size\n",
    "visual_style[\"vertex_label_size\"] = 8\n",
    "\n",
    "# Don't curve the edges\n",
    "visual_style[\"edge_curved\"] = False\n",
    "\n",
    "# Set the layout\n",
    "my_layout = Gm.layout_fruchterman_reingold()\n",
    "visual_style[\"layout\"] = my_layout\n",
    "\n",
    "# Plot the graph\n",
    "ig.plot(Gm, out_fig_name, **visual_style)"
   ]
  }
 ],
 "metadata": {
  "kernelspec": {
   "display_name": "Python 3",
   "language": "python",
   "name": "python3"
  },
  "language_info": {
   "codemirror_mode": {
    "name": "ipython",
    "version": 3
   },
   "file_extension": ".py",
   "mimetype": "text/x-python",
   "name": "python",
   "nbconvert_exporter": "python",
   "pygments_lexer": "ipython3",
   "version": "3.7.3"
  }
 },
 "nbformat": 4,
 "nbformat_minor": 5
}
